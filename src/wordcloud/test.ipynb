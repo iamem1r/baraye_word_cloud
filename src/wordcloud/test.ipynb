{
 "cells": [
  {
   "cell_type": "markdown",
   "id": "d4af4a29-08a1-46a5-a97c-e4499db6dd98",
   "metadata": {},
   "source": [
    "### imports"
   ]
  },
  {
   "cell_type": "code",
   "execution_count": 16,
   "id": "28bd3d83-d27a-40ba-8743-9f0d56f88134",
   "metadata": {},
   "outputs": [],
   "source": [
    "import json\n",
    "import pandas as pd\n",
    "# from src.data import DATA_DIR\n",
    "from hazm import word_tokenize, sent_tokenize\n",
    "from collections import Counter, defaultdict\n",
    "from typing import Union\n",
    "# from src.utils.io import read_file, read_json\n",
    "import seaborn as sns\n",
    "from path import Path"
   ]
  },
  {
   "cell_type": "markdown",
   "id": "8f1e14b5-d79c-4e92-bfbd-f6d09a91dfe7",
   "metadata": {},
   "source": [
    "### load data"
   ]
  },
  {
   "cell_type": "code",
   "execution_count": 25,
   "id": "61f4f225-0e59-4851-8d27-4e7eebac7bd2",
   "metadata": {},
   "outputs": [
    {
     "data": {
      "text/html": [
       "<div>\n",
       "<style scoped>\n",
       "    .dataframe tbody tr th:only-of-type {\n",
       "        vertical-align: middle;\n",
       "    }\n",
       "\n",
       "    .dataframe tbody tr th {\n",
       "        vertical-align: top;\n",
       "    }\n",
       "\n",
       "    .dataframe thead th {\n",
       "        text-align: right;\n",
       "    }\n",
       "</style>\n",
       "<table border=\"1\" class=\"dataframe\">\n",
       "  <thead>\n",
       "    <tr style=\"text-align: right;\">\n",
       "      <th></th>\n",
       "      <th>tweets</th>\n",
       "    </tr>\n",
       "  </thead>\n",
       "  <tbody>\n",
       "    <tr>\n",
       "      <th>0</th>\n",
       "      <td>تمامی پیام‌ها نقل قول بی‌نام از کاربران توییتر...</td>\n",
       "    </tr>\n",
       "    <tr>\n",
       "      <th>1</th>\n",
       "      <td>برای همه تلاش هایی که به خاطر سهمیه و پارتی با...</td>\n",
       "    </tr>\n",
       "    <tr>\n",
       "      <th>2</th>\n",
       "      <td>برای وقت‌هایی که بغض کردیم بخاطر نبودن Iran</td>\n",
       "    </tr>\n",
       "    <tr>\n",
       "      <th>3</th>\n",
       "      <td>برای بی‌خونه شدن میلیون‌ها ایرانی، برای اینکه ...</td>\n",
       "    </tr>\n",
       "    <tr>\n",
       "      <th>4</th>\n",
       "      <td>برای سینما رکسبرای کوی دانشگاهبرای خرداد۸۸برای...</td>\n",
       "    </tr>\n",
       "  </tbody>\n",
       "</table>\n",
       "</div>"
      ],
      "text/plain": [
       "                                              tweets\n",
       "0  تمامی پیام‌ها نقل قول بی‌نام از کاربران توییتر...\n",
       "1  برای همه تلاش هایی که به خاطر سهمیه و پارتی با...\n",
       "2        برای وقت‌هایی که بغض کردیم بخاطر نبودن Iran\n",
       "3  برای بی‌خونه شدن میلیون‌ها ایرانی، برای اینکه ...\n",
       "4  برای سینما رکسبرای کوی دانشگاهبرای خرداد۸۸برای..."
      ]
     },
     "execution_count": 25,
     "metadata": {},
     "output_type": "execute_result"
    }
   ],
   "source": [
    "data = pd.read_csv('../data/baraye.csv')\n",
    "data.rename(columns={'برای... #مهسا_امینی': 'tweets'}, inplace=True)\n",
    "data.head()"
   ]
  },
  {
   "cell_type": "code",
   "execution_count": 20,
   "id": "f2c88eb2-0e82-4baf-97cf-44c9772e9438",
   "metadata": {},
   "outputs": [],
   "source": [
    "def read_file(file_path: Union[Path, str]):\n",
    "    \"\"\"Reads a file and returns the content\n",
    "    \"\"\"\n",
    "    with open(file_path) as f:\n",
    "        return f.read()\n",
    "    \n",
    "    \n",
    "stopwords = set(read_file('../data/stopwords.txt').split('\\n'))"
   ]
  },
  {
   "cell_type": "markdown",
   "id": "ebed5066-ab5c-47bb-a38d-6df14f3340d5",
   "metadata": {},
   "source": [
    "### EDA"
   ]
  },
  {
   "cell_type": "code",
   "execution_count": 28,
   "id": "fbfce55a-c27b-4f80-80c2-4f6933323956",
   "metadata": {},
   "outputs": [],
   "source": [
    "data_iter = iter(data['tweets'])"
   ]
  },
  {
   "cell_type": "code",
   "execution_count": 32,
   "id": "507ef72e-661f-4709-9832-fd7bad927634",
   "metadata": {},
   "outputs": [
    {
     "data": {
      "text/plain": [
       "'برای بی\\u200cخونه شدن میلیون\\u200cها ایرانی، برای اینکه نه تو وطن جایی داریم و نه بیرون وطن، برای همه تحقیرها و تلاش\\u200cهای اضافی برای رسیدن به یک پاسپورت (کمی) معتبر، برای گم کردن چیزی به اسم عِرق ملی'"
      ]
     },
     "execution_count": 32,
     "metadata": {},
     "output_type": "execute_result"
    }
   ],
   "source": [
    "next(data_iter)"
   ]
  }
 ],
 "metadata": {
  "kernelspec": {
   "display_name": "Python 3 (ipykernel)",
   "language": "python",
   "name": "python3"
  },
  "language_info": {
   "codemirror_mode": {
    "name": "ipython",
    "version": 3
   },
   "file_extension": ".py",
   "mimetype": "text/x-python",
   "name": "python",
   "nbconvert_exporter": "python",
   "pygments_lexer": "ipython3",
   "version": "3.8.12"
  }
 },
 "nbformat": 4,
 "nbformat_minor": 5
}
